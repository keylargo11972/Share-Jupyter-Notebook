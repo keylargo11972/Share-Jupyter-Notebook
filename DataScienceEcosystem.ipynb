{
 "cells": [
  {
   "cell_type": "markdown",
   "id": "35ac6cc5-b4aa-4ab0-98b1-ae87984c566c",
   "metadata": {},
   "source": [
    "# Data Science Tools and Ecosystem"
   ]
  },
  {
   "cell_type": "markdown",
   "id": "b028965f-cf91-4c97-a7d3-28d76b11edd7",
   "metadata": {},
   "source": [
    "## In this notebook, Data Science Tools and Ecosystem are summarized."
   ]
  },
  {
   "attachments": {},
   "cell_type": "markdown",
   "id": "b69ace8e-3367-4726-b6ec-5bbf46cb618f",
   "metadata": {},
   "source": [
    "## __Objectives:__\n",
    "### -  List popular languages for Data Science.\n",
    "### -  Describe the components of a Data Scientist's toolkit and list various tool categories.\n",
    "### -  List examples of the various libraries: scientific, visualization, machine learning, and deep learning.\n",
    "### -  Describe how to use the notebooks in JupyterLab.\n",
    "### -  Create a GitHub account and a project repository."
   ]
  },
  {
   "cell_type": "markdown",
   "id": "eb35204a-e211-40bc-ac02-80e5c5a2a90e",
   "metadata": {},
   "source": [
    "## Some of the popular languages that Data Scientists use are:\n",
    "### &nbsp;&nbsp;&nbsp;&nbsp; 1. Python\n",
    "### &nbsp;&nbsp;&nbsp;&nbsp; 2. R\n",
    "### &nbsp;&nbsp;&nbsp;&nbsp; 3. SQL\n",
    "### &nbsp;&nbsp;&nbsp;&nbsp; 4. Scala\n",
    "### &nbsp;&nbsp;&nbsp;&nbsp; 5. Java\n",
    "### &nbsp;&nbsp;&nbsp;&nbsp; 6. C++\n",
    "### &nbsp;&nbsp;&nbsp;&nbsp; 7. Julia"
   ]
  },
  {
   "attachments": {},
   "cell_type": "markdown",
   "id": "f1bf5e60-b9b9-4639-a97f-60619e9b5480",
   "metadata": {},
   "source": [
    "## Some of the commonly used libraries used by Data Scientists include:\n",
    "### &nbsp;&nbsp;&nbsp;&nbsp; 1. Numpy\n",
    "### &nbsp;&nbsp;&nbsp;&nbsp; 2. Pandas\n",
    "### &nbsp;&nbsp;&nbsp;&nbsp; 3. Matplotlib\n",
    "### &nbsp;&nbsp;&nbsp;&nbsp; 4. Seaborn\n",
    "### &nbsp;&nbsp;&nbsp;&nbsp; 5. Scikit-learn\n",
    "### &nbsp;&nbsp;&nbsp;&nbsp; 6. Keras\n",
    "### &nbsp;&nbsp;&nbsp;&nbsp; 7. TensorFlow\n",
    "### &nbsp;&nbsp;&nbsp;&nbsp; 8. PyTorch\n",
    "### &nbsp;&nbsp;&nbsp;&nbsp; 9. ggplot2\n",
    "### &nbsp;&nbsp;&nbsp;&nbsp;10. Vegas"
   ]
  },
  {
   "attachments": {},
   "cell_type": "markdown",
   "id": "a47500db-b5a1-40e4-b7d8-19e24374fc3a",
   "metadata": {},
   "source": [
    "| Data Science Tools |\n",
    "|:------------------:|\n",
    "| Jupyter Notebook / JupyterLab |\n",
    "| RStudio |\n",
    "|VS Code (Visual Studio Code) |"
   ]
  },
  {
   "cell_type": "markdown",
   "id": "ec99ddce-0ccd-46d5-a16d-304a7d4f278a",
   "metadata": {},
   "source": [
    "## Below are a few examples of evaluating arithmetic expressions in Python."
   ]
  },
  {
   "cell_type": "code",
   "execution_count": 1,
   "id": "d06bc64f-9888-40ab-8d9f-03b03a0af96b",
   "metadata": {},
   "outputs": [
    {
     "data": {
      "text/plain": [
       "17"
      ]
     },
     "execution_count": 1,
     "metadata": {},
     "output_type": "execute_result"
    }
   ],
   "source": [
    "# This a simple arithmetic expression to mutiply then add integers.\n",
    "(3 * 4) + 5"
   ]
  },
  {
   "cell_type": "code",
   "execution_count": 2,
   "id": "459c99bb-9efa-4c98-b66d-55c37b64e402",
   "metadata": {},
   "outputs": [
    {
     "data": {
      "text/plain": [
       "3.3333333333333335"
      ]
     },
     "execution_count": 2,
     "metadata": {},
     "output_type": "execute_result"
    }
   ],
   "source": [
    "# This will convert 200 minutes to hours by dividing by 60.\n",
    "200 / 60"
   ]
  },
  {
   "cell_type": "markdown",
   "id": "97c10c2e-c9e8-43f7-b55e-70b658378425",
   "metadata": {},
   "source": [
    "## Author\n",
    "David Hanley"
   ]
  },
  {
   "cell_type": "code",
   "execution_count": null,
   "id": "a507be86-fcec-4121-9acf-fe7bb38e4074",
   "metadata": {},
   "outputs": [],
   "source": []
  }
 ],
 "metadata": {
  "kernelspec": {
   "display_name": "Python 3 (ipykernel)",
   "language": "python",
   "name": "python3"
  },
  "language_info": {
   "codemirror_mode": {
    "name": "ipython",
    "version": 3
   },
   "file_extension": ".py",
   "mimetype": "text/x-python",
   "name": "python",
   "nbconvert_exporter": "python",
   "pygments_lexer": "ipython3",
   "version": "3.13.5"
  }
 },
 "nbformat": 4,
 "nbformat_minor": 5
}
